{
 "cells": [
  {
   "cell_type": "code",
   "execution_count": 5,
   "metadata": {
    "collapsed": false
   },
   "outputs": [],
   "source": [
    "import os\n",
    "from sumy.summarizers.lex_rank import LexRankSummarizer\n",
    "from sumy.parsers.plaintext import PlaintextParser\n",
    "from sumy.nlp.tokenizers import Tokenizer\n",
    "from sumy.nlp.stemmers import Stemmer\n",
    "from sumy.utils import get_stop_words"
   ]
  },
  {
   "cell_type": "code",
   "execution_count": 6,
   "metadata": {
    "collapsed": true
   },
   "outputs": [],
   "source": [
    "LANGUAGE = \"english\"\n",
    "SENTENCES_COUNT = 5"
   ]
  },
  {
   "cell_type": "code",
   "execution_count": 7,
   "metadata": {
    "collapsed": true
   },
   "outputs": [],
   "source": [
    "def summ_it():\n",
    "    length = 0\n",
    "    total = 0\n",
    "    for file in os.listdir('topics'):\n",
    "        with open('topics/' + file, 'r') as f:\n",
    "            parser = PlaintextParser.from_string(unicode(f.read().replace('\\n',' '), errors='ignore'), Tokenizer(LANGUAGE))\n",
    "            stemmer = Stemmer(LANGUAGE)\n",
    "            summarizer = LexRankSummarizer(stemmer)\n",
    "            summarizer.stop_words = get_stop_words(LANGUAGE)\n",
    "            with open('summ_sumy_lex/' + file.split('.')[0] + '.txt', 'w') as fw:\n",
    "                for sentence in summarizer(parser.document, SENTENCES_COUNT):\n",
    "                    #print sentence\n",
    "                    fw.writelines(str(sentence))\n",
    "                    length += len(str(sentence))\n",
    "                total += length\n",
    "                length = 0"
   ]
  },
  {
   "cell_type": "code",
   "execution_count": 8,
   "metadata": {
    "collapsed": false
   },
   "outputs": [
    {
     "name": "stdout",
     "output_type": "stream",
     "text": [
      "1 loop, best of 3: 41.2 s per loop\n"
     ]
    }
   ],
   "source": [
    "summ_it()"
   ]
  },
  {
   "cell_type": "code",
   "execution_count": null,
   "metadata": {
    "collapsed": true
   },
   "outputs": [],
   "source": []
  }
 ],
 "metadata": {
  "anaconda-cloud": {},
  "kernelspec": {
   "display_name": "Python [default]",
   "language": "python",
   "name": "python2"
  },
  "language_info": {
   "codemirror_mode": {
    "name": "ipython",
    "version": 2
   },
   "file_extension": ".py",
   "mimetype": "text/x-python",
   "name": "python",
   "nbconvert_exporter": "python",
   "pygments_lexer": "ipython2",
   "version": "2.7.12"
  }
 },
 "nbformat": 4,
 "nbformat_minor": 0
}
